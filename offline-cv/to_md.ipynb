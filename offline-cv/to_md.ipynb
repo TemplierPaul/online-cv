{
 "cells": [
  {
   "cell_type": "markdown",
   "metadata": {},
   "source": [
    "# PDF CV\n",
    "\n",
    "https://ohmycv.app/edit/1715014690945"
   ]
  },
  {
   "cell_type": "code",
   "execution_count": 1,
   "metadata": {},
   "outputs": [],
   "source": [
    "# read yaml file\n",
    "import yaml\n",
    "\n",
    "with open('../_data/data.yml') as f:\n",
    "    data = yaml.load(f, Loader=yaml.FullLoader)"
   ]
  },
  {
   "cell_type": "code",
   "execution_count": 2,
   "metadata": {},
   "outputs": [],
   "source": [
    "# import md template\n",
    "template = open('template_cv.md', 'r').read()\n",
    "# Remove spaces from all {{ }}\n",
    "template = template.replace(\"{{ \", \"{{\").replace(\" }}\", \"}}\")"
   ]
  },
  {
   "cell_type": "code",
   "execution_count": 3,
   "metadata": {},
   "outputs": [],
   "source": [
    "# Base info\n",
    "\n",
    "def replace_all(template, data, base_keys=[]):\n",
    "    for key in data:\n",
    "        if isinstance(data[key], dict):\n",
    "            # print(\"Recursing into\", key)\n",
    "            template = replace_all(template, data[key], base_keys + [key])\n",
    "        else:\n",
    "            key_str = '.'.join(base_keys + [key])\n",
    "            # print(\"Replacing\", key_str)\n",
    "            template = template.replace('{{' + key_str + '}}', str(data[key]))\n",
    "    return template\n",
    "\n",
    "cv = replace_all(template, data)"
   ]
  },
  {
   "cell_type": "code",
   "execution_count": 4,
   "metadata": {},
   "outputs": [],
   "source": [
    "# Fill for all elements \n",
    "\n",
    "def loop_fill(template, data, cv=\"\"):\n",
    "    md = \"\"\n",
    "    for key in data:\n",
    "        md += replace_all(template, key)\n",
    "    return md"
   ]
  },
  {
   "cell_type": "code",
   "execution_count": 5,
   "metadata": {},
   "outputs": [],
   "source": [
    "# Education\n",
    "\n",
    "template = \"\"\"\n",
    "**{{degree}}**\n",
    "~ {{university}}, Toulouse, France\n",
    "~ {{time}}\n",
    "\"\"\"\n",
    "\n",
    "md = loop_fill(template, data['education'][\"info\"])\n",
    "# Add PhD\n",
    "md = \"\"\"\n",
    "**PhD in Machine Learning**\n",
    "~ ISAE-SUPAERO, Toulouse, France\n",
    "~ 2021-2024\n",
    "\n",
    "- Topic: Leveraging Structures in Evolutionary Neural Policy Search\n",
    "- Supervisors: Emmanuel Rachelson, Dennis Wilson.\n",
    "\"\"\" + md\n",
    "\n",
    "\n",
    "cv = cv.replace('{{education}}', md)\n"
   ]
  },
  {
   "cell_type": "code",
   "execution_count": 6,
   "metadata": {},
   "outputs": [],
   "source": [
    "# Work\n",
    "template = \"\"\"\n",
    "**{{role}}**\n",
    "~ {{company}}\n",
    "~ {{time}}\n",
    "\n",
    "- {{details}}\n",
    "\"\"\"\n",
    "\n",
    "xp_data = data['experiences'][\"info\"]\n",
    "for xp in xp_data:\n",
    "    # print(xp)\n",
    "    xp['supervisor'] = \"\"\n",
    "    if \"supervised\" in xp:\n",
    "        xp['supervisor'] = \"\\nSupervised by \" + \" \".join(s[\"name\"] for s in xp['supervised'])\n",
    "    if \"details\" in xp:\n",
    "        # remove last \\n\n",
    "        xp['details'] = xp['details'][:-1]\n",
    "        xp['details'] = xp['details'].replace(\"\\n\", \"\\n- \")\n",
    "\n",
    "\n",
    "\n",
    "md = loop_fill(template, xp_data)\n",
    "# print(md)\n",
    "cv = cv.replace('{{experiences}}', md)"
   ]
  },
  {
   "cell_type": "code",
   "execution_count": 7,
   "metadata": {},
   "outputs": [],
   "source": [
    "# Publications\n",
    "template = \"\"\"\n",
    "**{{title}}**\n",
    "\n",
    "~ {{conference}}\n",
    "\n",
    "- {{authors}} {{link}} {{code}} {{blog}}\n",
    "\n",
    "\"\"\"\n",
    "\n",
    "publi_data = data['publications'][\"research\"]\n",
    "for publi in publi_data:\n",
    "    if \"link\" in publi:\n",
    "        publi['link'] = f\"[(paper)]({publi['link']})\"\n",
    "    else:\n",
    "        publi['link'] = \"(paper soon)\"\n",
    "    if \"code\" in publi:\n",
    "        publi['code'] = f\" [(code)]({publi['code']})\"\n",
    "    else:\n",
    "        publi['code'] = \"\"\n",
    "    if \"blog\" in publi:\n",
    "        publi['blog'] = f\" [(blog)]({publi['blog']})\"\n",
    "    else:\n",
    "        publi['blog'] = \"\"\n",
    "\n",
    "md = loop_fill(template, publi_data)\n",
    "# print(md)\n",
    "cv = cv.replace('{{publications}}', md)\n"
   ]
  },
  {
   "cell_type": "code",
   "execution_count": 8,
   "metadata": {},
   "outputs": [],
   "source": [
    "# write to file\n",
    "with open('cv.md', 'w') as f:\n",
    "    f.write(cv)"
   ]
  },
  {
   "cell_type": "code",
   "execution_count": null,
   "metadata": {},
   "outputs": [],
   "source": []
  },
  {
   "cell_type": "code",
   "execution_count": null,
   "metadata": {},
   "outputs": [],
   "source": []
  }
 ],
 "metadata": {
  "kernelspec": {
   "display_name": "Python 3",
   "language": "python",
   "name": "python3"
  },
  "language_info": {
   "codemirror_mode": {
    "name": "ipython",
    "version": 3
   },
   "file_extension": ".py",
   "mimetype": "text/x-python",
   "name": "python",
   "nbconvert_exporter": "python",
   "pygments_lexer": "ipython3",
   "version": "3.9.6"
  },
  "orig_nbformat": 4
 },
 "nbformat": 4,
 "nbformat_minor": 2
}
